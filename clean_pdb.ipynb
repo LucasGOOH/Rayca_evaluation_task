{
 "cells": [
  {
   "cell_type": "code",
   "execution_count": 1,
   "id": "3067cdf9-15ee-4aba-a19a-7d8acb0547e2",
   "metadata": {},
   "outputs": [],
   "source": [
    "# Identify ligand binding pocket from PD-1/PD-L1 complex structure pdb"
   ]
  },
  {
   "cell_type": "code",
   "execution_count": 42,
   "id": "a112f109-7f2f-49bd-8a42-9902fc4eafef",
   "metadata": {},
   "outputs": [],
   "source": [
    "# Read pdb structure and keep only the atom lines of chain A\n",
    "\n",
    "# the name of the pdb file and the clean file\n",
    "filename = '4zqk.pdb'\n",
    "clean_file = filename + '.clean'\n",
    "\n",
    "# Loop through the lines in the input file\n",
    "# only keep the line starting with ATOM and chain A\n",
    "with open(filename, 'r') as inputpdb:\n",
    "    with open(clean_file, 'w') as outputpdb:\n",
    "        for line in inputpdb.readlines():\n",
    "            if line[:4] == 'ATOM':\n",
    "                if line[21:22] == 'B':\n",
    "                    outputpdb.write(line)\n",
    "                elif line[21:22] == 'A':\n",
    "                    continue\n",
    "                    new_line = line[:17] + 'LIG' + line[20:]\n",
    "                    outputpdb.write(new_line)\n"
   ]
  }
 ],
 "metadata": {
  "kernelspec": {
   "display_name": "Python 3 (ipykernel)",
   "language": "python",
   "name": "python3"
  },
  "language_info": {
   "codemirror_mode": {
    "name": "ipython",
    "version": 3
   },
   "file_extension": ".py",
   "mimetype": "text/x-python",
   "name": "python",
   "nbconvert_exporter": "python",
   "pygments_lexer": "ipython3",
   "version": "3.11.3"
  }
 },
 "nbformat": 4,
 "nbformat_minor": 5
}
