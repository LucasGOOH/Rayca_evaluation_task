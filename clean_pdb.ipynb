{
 "cells": [
  {
   "cell_type": "code",
   "execution_count": 1,
   "id": "3067cdf9-15ee-4aba-a19a-7d8acb0547e2",
   "metadata": {},
   "outputs": [],
   "source": [
    "# Identify ligand binding pocket from PD-1/PD-L1 complex structure pdb"
   ]
  },
  {
   "cell_type": "code",
   "execution_count": 42,
   "id": "a112f109-7f2f-49bd-8a42-9902fc4eafef",
   "metadata": {},
   "outputs": [],
   "source": [
    "# Read pdb structure and keep only the atom lines of chain A\n",
    "\n",
    "# the name of the pdb file and the clean file\n",
    "filename = '4zqk.pdb'\n",
    "clean_file = filename + '.clean'\n",
    "\n",
    "# Loop through the lines in the input file\n",
    "# only keep the line starting with ATOM and chain A\n",
    "with open(filename, 'r') as inputpdb:\n",
    "    with open(clean_file, 'w') as outputpdb:\n",
    "        for line in inputpdb.readlines():\n",
    "            if line[:4] == 'ATOM':\n",
    "                if line[21:22] == 'B':\n",
    "                    outputpdb.write(line)\n",
    "                elif line[21:22] == 'A':\n",
    "                    continue\n",
    "                    new_line = line[:17] + 'LIG' + line[20:]\n",
    "                    outputpdb.write(new_line)\n"
   ]
  },
  {
   "cell_type": "code",
   "execution_count": 3,
   "id": "9e818378-6321-4858-a0dd-a36bcec88aba",
   "metadata": {},
   "outputs": [
    {
     "name": "stderr",
     "output_type": "stream",
     "text": [
      "/home/lucas/anaconda3/envs/firedance/lib/python3.11/site-packages/Bio/PDB/PDBParser.py:395: PDBConstructionWarning: Ignoring unrecognized record 'END' at line 280\n",
      "  warnings.warn(\n"
     ]
    }
   ],
   "source": [
    "# Generate mock ligand for dpocket\n",
    "# create atoms from the pocket pdb\n",
    "\n",
    "from Bio.PDB import PDBParser, PDBIO\n",
    "from Bio.PDB.Residue import Residue\n",
    "from Bio.PDB.Chain import Chain\n",
    "\n",
    "pocket_pdb = 'pd1_pocket.pdb'\n",
    "\n",
    "pocket = PDBParser().get_structure('_', pocket_pdb)"
   ]
  },
  {
   "cell_type": "code",
   "execution_count": 34,
   "id": "f4a8a43b-f654-4946-b8d8-caf4de2571cc",
   "metadata": {
    "collapsed": true,
    "jupyter": {
     "outputs_hidden": true
    },
    "tags": []
   },
   "outputs": [
    {
     "name": "stdout",
     "output_type": "stream",
     "text": [
      "<Residue PHE het=  resseq=19 icode= >\n",
      "19\n",
      "<Residue VAL het=  resseq=23 icode= >\n",
      "23\n",
      "<Residue ASP het=  resseq=26 icode= >\n",
      "26\n",
      "<Residue ILE het=  resseq=54 icode= >\n",
      "54\n",
      "<Residue TYR het=  resseq=56 icode= >\n",
      "56\n",
      "<Residue GLU het=  resseq=58 icode= >\n",
      "58\n",
      "<Residue GLN het=  resseq=66 icode= >\n",
      "66\n",
      "<Residue ARG het=  resseq=113 icode= >\n",
      "113\n",
      "<Residue MET het=  resseq=115 icode= >\n",
      "115\n",
      "<Residue SER het=  resseq=117 icode= >\n",
      "117\n",
      "<Residue GLY het=  resseq=119 icode= >\n",
      "119\n",
      "<Residue GLY het=  resseq=120 icode= >\n",
      "120\n",
      "<Residue ALA het=  resseq=121 icode= >\n",
      "121\n",
      "<Residue ASP het=  resseq=122 icode= >\n",
      "122\n",
      "<Residue TYR het=  resseq=123 icode= >\n",
      "123\n",
      "<Residue LYS het=  resseq=124 icode= >\n",
      "124\n",
      "<Residue ARG het=  resseq=125 icode= >\n",
      "125\n",
      "<Residue HOH het=W resseq=304 icode= >\n",
      "304\n"
     ]
    }
   ],
   "source": [
    "for residue in pocket.get_residues():\n",
    "    print(residue)\n",
    "    print(residue.get_id()[1])"
   ]
  },
  {
   "cell_type": "code",
   "execution_count": null,
   "id": "9f351e0f-193e-412b-b281-d22c3762e4d1",
   "metadata": {},
   "outputs": [],
   "source": [
    "model, chain, resnum, inscode = entity"
   ]
  },
  {
   "cell_type": "code",
   "execution_count": 38,
   "id": "74e292dd-b52c-48cd-89aa-eff8f755d522",
   "metadata": {},
   "outputs": [
    {
     "data": {
      "text/plain": [
       "'ALA'"
      ]
     },
     "execution_count": 38,
     "metadata": {},
     "output_type": "execute_result"
    }
   ],
   "source": [
    "'ATOM    874  CB  ALA A 132     -23.042  33.502 100.925  1.00 76.61           C '[17:20] = 'STP'"
   ]
  },
  {
   "cell_type": "code",
   "execution_count": 2,
   "id": "64e6e5ba-8b49-4c60-84ae-eda8dcbf76ca",
   "metadata": {},
   "outputs": [
    {
     "ename": "SyntaxError",
     "evalue": "invalid syntax (290360166.py, line 14)",
     "output_type": "error",
     "traceback": [
      "\u001b[0;36m  Cell \u001b[0;32mIn[2], line 14\u001b[0;36m\u001b[0m\n\u001b[0;31m    atom_i =\u001b[0m\n\u001b[0m             ^\u001b[0m\n\u001b[0;31mSyntaxError\u001b[0m\u001b[0;31m:\u001b[0m invalid syntax\n"
     ]
    }
   ],
   "source": [
    "atoms = ''\n",
    "\n",
    "with open(pocket_pdb,'r') as inputfile:\n",
    "    for line in inputfile.readlines():\n",
    "        if line[0:4] == 'ATOM':\n",
    "            atom_i = "
   ]
  },
  {
   "cell_type": "code",
   "execution_count": null,
   "id": "d82b42e2-8b09-49dd-a7a6-8384b9feda01",
   "metadata": {},
   "outputs": [],
   "source": [
    ":"
   ]
  }
 ],
 "metadata": {
  "kernelspec": {
   "display_name": "Python 3 (ipykernel)",
   "language": "python",
   "name": "python3"
  },
  "language_info": {
   "codemirror_mode": {
    "name": "ipython",
    "version": 3
   },
   "file_extension": ".py",
   "mimetype": "text/x-python",
   "name": "python",
   "nbconvert_exporter": "python",
   "pygments_lexer": "ipython3",
   "version": "3.11.3"
  }
 },
 "nbformat": 4,
 "nbformat_minor": 5
}
